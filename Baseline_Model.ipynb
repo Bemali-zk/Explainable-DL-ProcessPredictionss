{
  "nbformat": 4,
  "nbformat_minor": 0,
  "metadata": {
    "accelerator": "GPU",
    "colab": {
      "name": "Baseline Model.ipynb",
      "provenance": []
    },
    "kernelspec": {
      "display_name": "Python 3",
      "name": "python3"
    },
    "language_info": {
      "name": "python"
    }
  },
  "cells": [
    {
      "cell_type": "code",
      "metadata": {
        "colab": {
          "base_uri": "https://localhost:8080/"
        },
        "id": "iMeQTdBH4DRn",
        "outputId": "14d13e07-482c-4c13-8b63-174a3a327a47"
      },
      "source": [
        "import os\n",
        "import argparse\n",
        "import numpy as np\n",
        "import pandas as pd\n",
        "from matplotlib import pyplot as plt\n",
        "#import tensorflow as tf\n",
        "\n",
        "import sys\n",
        "import getopt\n",
        "\n",
        "\n",
        "import tensorflow.compat.v1 as tf\n",
        "\n",
        "from keras import backend as K\n",
        "from keras.models import Model\n",
        "from keras.preprocessing import sequence\n",
        "from keras.utils.data_utils import Sequence\n",
        "from keras.regularizers import l2\n",
        "from keras.constraints import non_neg, Constraint\n",
        "from sklearn.metrics import roc_auc_score, average_precision_score, precision_recall_curve, confusion_matrix\n",
        "\n",
        "\n",
        "from keras.layers import Input, Concatenate, Flatten\n",
        "from keras.layers.core import Dense\n",
        "from keras.layers.recurrent import LSTM\n",
        "from tensorflow.keras.optimizers import Nadam, Adam, SGD, Adagrad\n",
        "from keras.callbacks import EarlyStopping, ModelCheckpoint, ReduceLROnPlateau\n",
        "from keras.layers.normalization import BatchNormalization\n",
        "\n",
        "import csv\n",
        "import math\n",
        "import itertools\n",
        "\n",
        "from tensorflow.keras import utils as ku \n",
        "\n",
        "import pickle\n",
        "\n",
        "from nltk.util import ngrams\n",
        "\n",
        "import keras\n",
        "print(keras.__version__)\n",
        "\n",
        "\n",
        "from google.colab import drive\n",
        "drive.mount('/content/drive')"
      ],
      "execution_count": 1,
      "outputs": [
        {
          "output_type": "stream",
          "text": [
            "2.5.0\n",
            "Mounted at /content/drive\n"
          ],
          "name": "stdout"
        }
      ]
    },
    {
      "cell_type": "code",
      "metadata": {
        "id": "NCl8QBs54T_B"
      },
      "source": [
        "MY_WORKSPACE_DIR = \"/content/drive/My Drive/BPIC_11/\""
      ],
      "execution_count": 2,
      "outputs": []
    },
    {
      "cell_type": "markdown",
      "metadata": {
        "id": "Cyz-VISj4i9x"
      },
      "source": [
        "\n",
        "Loading the data and parameter files"
      ]
    },
    {
      "cell_type": "code",
      "metadata": {
        "id": "8sZsrKrp4hoR"
      },
      "source": [
        "with open('/content/drive/My Drive/BPIC_11/args.p', 'rb') as fp:\n",
        "    args = pickle.load(fp)"
      ],
      "execution_count": 3,
      "outputs": []
    },
    {
      "cell_type": "code",
      "metadata": {
        "id": "HokhlOL047Qr"
      },
      "source": [
        "with open(args['processed_training_vec'], 'rb') as fp:\n",
        "    vec_train = pickle.load(fp)\n",
        "with open(args['processed_test_vec'], 'rb') as fp:\n",
        "    vec_test = pickle.load(fp)\n",
        "    \n",
        "with open(args['weights'], 'rb') as fp:\n",
        "    weights = pickle.load(fp)\n",
        "ac_weights = weights['ac_weights']\n",
        "rl_weights = weights['rl_weights']\n",
        "diagnoses = weights['diagnoses']\n",
        "\n",
        "with open(args['indexes'], 'rb') as fp:\n",
        "    indexes = pickle.load(fp)\n",
        "    index_ac = indexes['index_ac']\n",
        "    index_rl = indexes['index_rl']\n",
        "    "
      ],
      "execution_count": 4,
      "outputs": []
    },
    {
      "cell_type": "code",
      "metadata": {
        "colab": {
          "base_uri": "https://localhost:8080/"
        },
        "id": "ME8liZ3LPlLv",
        "outputId": "2c9a0163-fe9f-4057-f2f7-89350f182d94"
      },
      "source": [
        "index_di = indexes['index_di']\n",
        "index_di"
      ],
      "execution_count": 5,
      "outputs": [
        {
          "output_type": "execute_result",
          "data": {
            "text/plain": [
              "{0: '106', 1: 'M11', 2: 'M13', 3: 'M14', 4: 'M16'}"
            ]
          },
          "metadata": {
            "tags": []
          },
          "execution_count": 5
        }
      ]
    },
    {
      "cell_type": "markdown",
      "metadata": {
        "id": "F1Pfq1SP5GUc"
      },
      "source": [
        "#### Model with Attention\n",
        "\n",
        "Author: Bemali Wickramanayake\n",
        "\n",
        "Model Details: This model computes the attention weights for the dynamic 'prefix' features and uses them in the final outcome prediction together with the static features"
      ]
    },
    {
      "cell_type": "code",
      "metadata": {
        "colab": {
          "base_uri": "https://localhost:8080/",
          "height": 1000
        },
        "id": "rqc8pK5Q5bas",
        "outputId": "135025dd-fcbb-4ab8-dead-10a60e6cd239"
      },
      "source": [
        "import keras.layers as L\n",
        "from keras import backend as K\n",
        "from keras.layers import Embedding\n",
        "\n",
        "from keras.layers import Lambda, dot, Activation, concatenate, Dense\n",
        "\n",
        "\n",
        "#Initializing variables\n",
        "vec = vec_train\n",
        "output_folder = MY_WORKSPACE_DIR\n",
        "\n",
        "MAX_LEN = args['n_size']\n",
        "dropout_input = 0.15\n",
        "dropout_context=0.15\n",
        "  # number of lstm cells\n",
        "incl_time = True \n",
        "incl_res = True\n",
        "lstm_size_alpha=args['l_size'] #number of lstm cells\n",
        "lstm_size_beta=args['l_size']\n",
        "print(\"Training prefix-attention model\")\n",
        "\n",
        "l2reg=0.0001\n",
        "\n",
        "output_length = diagnoses\n",
        "\n",
        " \n",
        "  #Inputs include activity, resource and time - time is normalised- 0 mean and unit variance\n",
        "\n",
        "#Dynamic Inputs\n",
        "ac_input = Input(shape=(vec['prefixes']['x_ac_inp'].shape[1], ), name='ac_input') \n",
        "rl_input = Input(shape=(vec['prefixes']['x_rl_inp'].shape[1], ), name='rl_input')\n",
        "t_input = Input(shape=(vec['prefixes']['xt_inp'].shape[1], 1), name='t_input')\n",
        "\n",
        "#static inputs\n",
        "age_input = Input(shape = (1, ),name = 'age_input') #cl_input_d #vec['static']['x_age_inp']\n",
        "cl_input_d = Input(shape =(1, ),name = 'cl_input_d') #case length (the duration of a case) in days #vec['static']['x_cl_inp']\n",
        "cl_input_y = Input(shape=(1, ),name = 'cl_input_y') #case length (the duration of a case) in years, rounded down #vec['static']['x_years_inp']\n",
        "\n",
        "#Activity Embedding - dynamic input 1\n",
        "  \n",
        "ac_embs = L.Embedding(ac_weights.shape[0],\n",
        "                            ac_weights.shape[1],\n",
        "                            weights=[ac_weights], #the one hot encoded activity weight matrix used as the initial weight matrix\n",
        "                            input_length=vec['prefixes']['x_ac_inp'].shape[1],\n",
        "                            trainable=True, name='ac_embedding')(ac_input)\n",
        "\n",
        "dim_ac =ac_weights.shape[1]   \n",
        "\n",
        "\n",
        "\n",
        "#Role Embedding - dynamic input 2\n",
        "rl_embs = Embedding(rl_weights.shape[0],\n",
        "                            rl_weights.shape[1],\n",
        "                            weights=[rl_weights],\n",
        "                            input_length=vec['prefixes']['x_rl_inp'].shape[1],\n",
        "                            trainable=True, name='rl_embedding')(rl_input)\n",
        "\n",
        "dim_rl = rl_weights.shape[1]\n",
        "      \n",
        "\n",
        "#Time input\n",
        "\n",
        "time_embs=t_input\n",
        "dim_t = 1\n",
        "\n",
        "#Concatenated Input Vector\n",
        "\n",
        "full_embs = L.concatenate([ac_embs,rl_embs,time_embs],name = 'full_embs')\n",
        "full_embs = L.Dropout(dropout_input)(full_embs)\n",
        "\n",
        "#Set up the LSTM networks\n",
        "\n",
        "#LSTM \n",
        "alpha = L.Bidirectional(L.CuDNNLSTM(lstm_size_alpha, return_sequences=True),\n",
        "                                    name='alpha')\n",
        "beta = L.Bidirectional(L.LSTM(lstm_size_beta, return_sequences=True),\n",
        "                                   name='beta')\n",
        "\n",
        "\n",
        "#Dense layer for attention\n",
        "alpha_dense = L.Dense(1, kernel_regularizer=l2(l2reg))\n",
        "beta_dense = L.Dense(1,\n",
        "                             activation='tanh', kernel_regularizer=l2(l2reg))\n",
        "\n",
        "#Compute alpha, timestep attention\n",
        "\n",
        "alpha_out = alpha(full_embs)\n",
        "alpha_out = L.TimeDistributed(alpha_dense, name='alpha_dense')(alpha_out)\n",
        "alpha_out = L.Softmax(name='timestep_attention', axis=1)(alpha_out)\n",
        "\n",
        "#Compute beta, feature attention\n",
        "beta_out = beta(full_embs)\n",
        "beta_out = L.TimeDistributed(beta_dense, name='feature_attention')(beta_out)\n",
        "\n",
        "\n",
        "\n",
        "  \n",
        "#Compute context vector based on attentions and embeddings\n",
        "c_t = L.Multiply()([alpha_out, beta_out,full_embs])\n",
        "c_t = L.Lambda(lambda x: K.sum(x, axis=1))(c_t)\n",
        "\n",
        "  \n",
        "#contexts = L.concatenate([c_t,age_input,cl_input_d], name='contexts')\n",
        "contexts = L.Dropout(dropout_context)(c_t)\n",
        "\n",
        "\n",
        "  \n",
        "act_output = Dense(output_length,\n",
        "                       activation='softmax',\n",
        "                       kernel_initializer='glorot_uniform',\n",
        "                       name='act_output')(contexts)\n",
        "\n",
        " #changing the optimizer\n",
        " #----- delete this bit if works--------\n",
        "#args['optim'] = 'Adagrad'\n",
        " #------------------------------------\n",
        "\n",
        "#model = Model(inputs=[ac_input, rl_input, t_input,age_input,cl_input_d], outputs=act_output)\n",
        "model = Model(inputs=[ac_input, rl_input, t_input], outputs=act_output)\n",
        "\n",
        "tf.keras.utils.plot_model(\n",
        "    model,\n",
        "    to_file=\"model.png\",\n",
        "    show_shapes=False,\n",
        "    show_dtype=False,\n",
        "    show_layer_names=True,\n",
        "    rankdir=\"TB\",\n",
        "    expand_nested=False,\n",
        "    dpi=96,\n",
        ")\n",
        "\n"
      ],
      "execution_count": 10,
      "outputs": [
        {
          "output_type": "stream",
          "text": [
            "Training prefix-attention model\n"
          ],
          "name": "stdout"
        },
        {
          "output_type": "execute_result",
          "data": {
            "image/png": "[encoded data removed]",
            "text/plain": [
              "<IPython.core.display.Image object>"
            ]
          },
          "metadata": {
            "tags": []
          },
          "execution_count": 10
        }
      ]
    },
    {
      "cell_type": "code",
      "metadata": {
        "colab": {
          "base_uri": "https://localhost:8080/"
        },
        "id": "Ycc6xkXhVZFN",
        "outputId": "18160b12-573f-4b32-c8b3-460c2c736c2a"
      },
      "source": [
        "# Model Training\n",
        "\n",
        "if args['optim'] == 'Nadam':\n",
        "      opt = Nadam(learning_rate=0.002, beta_1=0.9, beta_2=0.999,\n",
        "                    epsilon=1e-08, schedule_decay=0.004, clipvalue=3 , name = 'Nadam')\n",
        "elif args['optim'] == 'Adam':\n",
        "      opt = Adam(learning_rate=0.001, beta_1=0.9, beta_2=0.999,\n",
        "                   epsilon=None, decay=0.0, amsgrad=False,name = 'Adam')\n",
        "elif args['optim'] == 'SGD':\n",
        "      opt = SGD(momentum=0.0, decay=0.0, nesterov=False, name = 'SGD')\n",
        "elif args['optim'] == 'Adagrad':\n",
        "        opt = Adagrad(learning_rate=0.01, epsilon=None, decay=0.0, name = 'Adagrad')\n",
        "\n",
        "#model.compile(loss={'act_output':'categorical_crossentropy'}, optimizer=opt, metrics=['accuracy'])\n",
        "model.compile(loss='categorical_crossentropy', optimizer=opt, metrics=['accuracy'])\n",
        "    \n",
        "model.summary()\n",
        "    \n",
        "early_stopping = EarlyStopping(monitor='val_loss', patience=42)\n",
        "#\n",
        "#    # Output file\n",
        "output_file_path = os.path.join(output_folder,\n",
        "                                    'models/model_rd_' + str(args['n_size']) +\n",
        "                                    ' ' + args['optim']  + args['log_name']  +\n",
        "                                    '_{epoch:02d}-{val_loss:.2f}.h5')\n",
        "print('This is the output file path ', output_file_path)\n",
        "    # Saving\n",
        "model_checkpoint = ModelCheckpoint(output_file_path,\n",
        "                                       monitor='val_loss',\n",
        "                                       verbose=1,\n",
        "                                       save_best_only=True,\n",
        "                                       save_weights_only=False,\n",
        "                                       mode='auto')\n",
        "lr_reducer = ReduceLROnPlateau(monitor='val_loss',\n",
        "                                   factor=0.5,\n",
        "                                   patience=10,\n",
        "                                   verbose=0,\n",
        "                                   mode='auto',\n",
        "                                   min_delta=0.0001,\n",
        "                                   cooldown=0,\n",
        "                                   min_lr=0)\n",
        "\n",
        "model_inputs = [vec['prefixes']['x_ac_inp']]\n",
        "model_inputs.append(vec['prefixes']['x_rl_inp'])\n",
        "model_inputs.append(vec['prefixes']['xt_inp'])\n",
        "#model_inputs.append(vec['static']['x_age_inp'])\n",
        "#model_inputs.append(vec['static']['x_cl_inp'])\n",
        "\n",
        "\n",
        "\n",
        "with tf.compat.v1.Session() as sess:\n",
        "     sess.run(tf.compat.v1.global_variables_initializer())\n",
        "\n",
        "model.fit(model_inputs,\n",
        "            {'act_output':vec['diagnosis']},\n",
        "            validation_split=0.15,\n",
        "            verbose=2,\n",
        "            callbacks=[early_stopping, model_checkpoint,lr_reducer],\n",
        "            batch_size=10,\n",
        "            epochs=100)\n",
        "#return model"
      ],
      "execution_count": 11,
      "outputs": [
        {
          "output_type": "stream",
          "text": [
            "Model: \"model\"\n",
            "__________________________________________________________________________________________________\n",
            "Layer (type)                    Output Shape         Param #     Connected to                     \n",
            "==================================================================================================\n",
            "ac_input (InputLayer)           [(None, 1402)]       0                                            \n",
            "__________________________________________________________________________________________________\n",
            "rl_input (InputLayer)           [(None, 1402)]       0                                            \n",
            "__________________________________________________________________________________________________\n",
            "ac_embedding (Embedding)        (None, 1402, 201)    40401       ac_input[0][0]                   \n",
            "__________________________________________________________________________________________________\n",
            "rl_embedding (Embedding)        (None, 1402, 34)     1156        rl_input[0][0]                   \n",
            "__________________________________________________________________________________________________\n",
            "t_input (InputLayer)            [(None, 1402, 1)]    0                                            \n",
            "__________________________________________________________________________________________________\n",
            "full_embs (Concatenate)         (None, 1402, 236)    0           ac_embedding[0][0]               \n",
            "                                                                 rl_embedding[0][0]               \n",
            "                                                                 t_input[0][0]                    \n",
            "__________________________________________________________________________________________________\n",
            "dropout_5 (Dropout)             (None, 1402, 236)    0           full_embs[0][0]                  \n",
            "__________________________________________________________________________________________________\n",
            "alpha (Bidirectional)           (None, 1402, 100)    115200      dropout_5[0][0]                  \n",
            "__________________________________________________________________________________________________\n",
            "alpha_dense (TimeDistributed)   (None, 1402, 1)      101         alpha[0][0]                      \n",
            "__________________________________________________________________________________________________\n",
            "beta (Bidirectional)            (None, 1402, 100)    114800      dropout_5[0][0]                  \n",
            "__________________________________________________________________________________________________\n",
            "attention (Softmax)             (None, 1402, 1)      0           alpha_dense[0][0]                \n",
            "__________________________________________________________________________________________________\n",
            "beta_dense_0 (TimeDistributed)  (None, 1402, 1)      101         beta[0][0]                       \n",
            "__________________________________________________________________________________________________\n",
            "multiply_1 (Multiply)           (None, 1402, 236)    0           attention[0][0]                  \n",
            "                                                                 beta_dense_0[0][0]               \n",
            "                                                                 dropout_5[0][0]                  \n",
            "__________________________________________________________________________________________________\n",
            "lambda_1 (Lambda)               (None, 236)          0           multiply_1[0][0]                 \n",
            "__________________________________________________________________________________________________\n",
            "dropout_6 (Dropout)             (None, 236)          0           lambda_1[0][0]                   \n",
            "__________________________________________________________________________________________________\n",
            "act_output (Dense)              (None, 5)            1185        dropout_6[0][0]                  \n",
            "==================================================================================================\n",
            "Total params: 272,944\n",
            "Trainable params: 272,944\n",
            "Non-trainable params: 0\n",
            "__________________________________________________________________________________________________\n",
            "This is the output file path  /content/drive/My Drive/BPIC_11/models/model_rd_15 Adagradbpic2011_Hospital_Data_{epoch:02d}-{val_loss:.2f}.h5\n",
            "Epoch 1/100\n",
            "65/65 - 43s - loss: 1.5945 - accuracy: 0.2685 - val_loss: 1.5865 - val_accuracy: 0.3130\n",
            "\n",
            "Epoch 00001: val_loss improved from inf to 1.58649, saving model to /content/drive/My Drive/BPIC_11/models/model_rd_15 Adagradbpic2011_Hospital_Data_01-1.59.h5\n",
            "Epoch 2/100\n"
          ],
          "name": "stdout"
        },
        {
          "output_type": "stream",
          "text": [
            "/usr/local/lib/python3.7/dist-packages/keras/utils/generic_utils.py:497: CustomMaskWarning: Custom mask layers require a config and must override get_config. When loading, the custom mask layer must be passed to the custom_objects argument.\n",
            "  category=CustomMaskWarning)\n"
          ],
          "name": "stderr"
        },
        {
          "output_type": "stream",
          "text": [
            "65/65 - 10s - loss: 1.5784 - accuracy: 0.2685 - val_loss: 1.5805 - val_accuracy: 0.3130\n",
            "\n",
            "Epoch 00002: val_loss improved from 1.58649 to 1.58050, saving model to /content/drive/My Drive/BPIC_11/models/model_rd_15 Adagradbpic2011_Hospital_Data_02-1.58.h5\n",
            "Epoch 3/100\n",
            "65/65 - 10s - loss: 1.5784 - accuracy: 0.2701 - val_loss: 1.5799 - val_accuracy: 0.3130\n",
            "\n",
            "Epoch 00003: val_loss improved from 1.58050 to 1.57992, saving model to /content/drive/My Drive/BPIC_11/models/model_rd_15 Adagradbpic2011_Hospital_Data_03-1.58.h5\n",
            "Epoch 4/100\n",
            "65/65 - 10s - loss: 1.5726 - accuracy: 0.2670 - val_loss: 1.5785 - val_accuracy: 0.3130\n",
            "\n",
            "Epoch 00004: val_loss improved from 1.57992 to 1.57849, saving model to /content/drive/My Drive/BPIC_11/models/model_rd_15 Adagradbpic2011_Hospital_Data_04-1.58.h5\n",
            "Epoch 5/100\n",
            "65/65 - 10s - loss: 1.5682 - accuracy: 0.2685 - val_loss: 1.5794 - val_accuracy: 0.3130\n",
            "\n",
            "Epoch 00005: val_loss did not improve from 1.57849\n",
            "Epoch 6/100\n",
            "65/65 - 10s - loss: 1.5716 - accuracy: 0.2685 - val_loss: 1.5789 - val_accuracy: 0.3130\n",
            "\n",
            "Epoch 00006: val_loss did not improve from 1.57849\n",
            "Epoch 7/100\n",
            "65/65 - 10s - loss: 1.5735 - accuracy: 0.2701 - val_loss: 1.5797 - val_accuracy: 0.3130\n",
            "\n",
            "Epoch 00007: val_loss did not improve from 1.57849\n",
            "Epoch 8/100\n",
            "65/65 - 10s - loss: 1.5717 - accuracy: 0.2670 - val_loss: 1.5800 - val_accuracy: 0.3130\n",
            "\n",
            "Epoch 00008: val_loss did not improve from 1.57849\n",
            "Epoch 9/100\n",
            "65/65 - 10s - loss: 1.5737 - accuracy: 0.2685 - val_loss: 1.5800 - val_accuracy: 0.3130\n",
            "\n",
            "Epoch 00009: val_loss did not improve from 1.57849\n",
            "Epoch 10/100\n",
            "65/65 - 10s - loss: 1.5721 - accuracy: 0.2731 - val_loss: 1.5794 - val_accuracy: 0.3130\n",
            "\n",
            "Epoch 00010: val_loss did not improve from 1.57849\n",
            "Epoch 11/100\n",
            "65/65 - 10s - loss: 1.5709 - accuracy: 0.2701 - val_loss: 1.5793 - val_accuracy: 0.3130\n",
            "\n",
            "Epoch 00011: val_loss did not improve from 1.57849\n",
            "Epoch 12/100\n",
            "65/65 - 10s - loss: 1.5738 - accuracy: 0.2701 - val_loss: 1.5799 - val_accuracy: 0.3130\n",
            "\n",
            "Epoch 00012: val_loss did not improve from 1.57849\n",
            "Epoch 13/100\n",
            "65/65 - 10s - loss: 1.5710 - accuracy: 0.2778 - val_loss: 1.5792 - val_accuracy: 0.3130\n",
            "\n",
            "Epoch 00013: val_loss did not improve from 1.57849\n",
            "Epoch 14/100\n",
            "65/65 - 10s - loss: 1.5725 - accuracy: 0.2685 - val_loss: 1.5791 - val_accuracy: 0.3130\n",
            "\n",
            "Epoch 00014: val_loss did not improve from 1.57849\n",
            "Epoch 15/100\n",
            "65/65 - 10s - loss: 1.5706 - accuracy: 0.2747 - val_loss: 1.5792 - val_accuracy: 0.3130\n",
            "\n",
            "Epoch 00015: val_loss did not improve from 1.57849\n",
            "Epoch 16/100\n",
            "65/65 - 10s - loss: 1.5726 - accuracy: 0.2731 - val_loss: 1.5792 - val_accuracy: 0.3130\n",
            "\n",
            "Epoch 00016: val_loss did not improve from 1.57849\n",
            "Epoch 17/100\n",
            "65/65 - 10s - loss: 1.5736 - accuracy: 0.2747 - val_loss: 1.5792 - val_accuracy: 0.3130\n",
            "\n",
            "Epoch 00017: val_loss did not improve from 1.57849\n",
            "Epoch 18/100\n",
            "65/65 - 10s - loss: 1.5721 - accuracy: 0.2731 - val_loss: 1.5792 - val_accuracy: 0.3130\n",
            "\n",
            "Epoch 00018: val_loss did not improve from 1.57849\n",
            "Epoch 19/100\n",
            "65/65 - 10s - loss: 1.5692 - accuracy: 0.2716 - val_loss: 1.5790 - val_accuracy: 0.3130\n",
            "\n",
            "Epoch 00019: val_loss did not improve from 1.57849\n",
            "Epoch 20/100\n",
            "65/65 - 10s - loss: 1.5729 - accuracy: 0.2639 - val_loss: 1.5790 - val_accuracy: 0.3130\n",
            "\n",
            "Epoch 00020: val_loss did not improve from 1.57849\n",
            "Epoch 21/100\n",
            "65/65 - 10s - loss: 1.5685 - accuracy: 0.2778 - val_loss: 1.5789 - val_accuracy: 0.3130\n",
            "\n",
            "Epoch 00021: val_loss did not improve from 1.57849\n",
            "Epoch 22/100\n",
            "65/65 - 10s - loss: 1.5720 - accuracy: 0.2716 - val_loss: 1.5789 - val_accuracy: 0.3130\n",
            "\n",
            "Epoch 00022: val_loss did not improve from 1.57849\n",
            "Epoch 23/100\n",
            "65/65 - 10s - loss: 1.5686 - accuracy: 0.2747 - val_loss: 1.5789 - val_accuracy: 0.3130\n",
            "\n",
            "Epoch 00023: val_loss did not improve from 1.57849\n",
            "Epoch 24/100\n",
            "65/65 - 10s - loss: 1.5671 - accuracy: 0.2747 - val_loss: 1.5789 - val_accuracy: 0.3130\n",
            "\n",
            "Epoch 00024: val_loss did not improve from 1.57849\n",
            "Epoch 25/100\n",
            "65/65 - 10s - loss: 1.5692 - accuracy: 0.2685 - val_loss: 1.5789 - val_accuracy: 0.3130\n",
            "\n",
            "Epoch 00025: val_loss did not improve from 1.57849\n",
            "Epoch 26/100\n",
            "65/65 - 10s - loss: 1.5701 - accuracy: 0.2793 - val_loss: 1.5789 - val_accuracy: 0.3130\n",
            "\n",
            "Epoch 00026: val_loss did not improve from 1.57849\n",
            "Epoch 27/100\n",
            "65/65 - 10s - loss: 1.5690 - accuracy: 0.2731 - val_loss: 1.5789 - val_accuracy: 0.3130\n",
            "\n",
            "Epoch 00027: val_loss did not improve from 1.57849\n",
            "Epoch 28/100\n",
            "65/65 - 10s - loss: 1.5675 - accuracy: 0.2762 - val_loss: 1.5789 - val_accuracy: 0.3130\n",
            "\n",
            "Epoch 00028: val_loss did not improve from 1.57849\n",
            "Epoch 29/100\n",
            "65/65 - 10s - loss: 1.5677 - accuracy: 0.2731 - val_loss: 1.5789 - val_accuracy: 0.3130\n",
            "\n",
            "Epoch 00029: val_loss did not improve from 1.57849\n",
            "Epoch 30/100\n",
            "65/65 - 10s - loss: 1.5691 - accuracy: 0.2716 - val_loss: 1.5790 - val_accuracy: 0.3130\n",
            "\n",
            "Epoch 00030: val_loss did not improve from 1.57849\n",
            "Epoch 31/100\n",
            "65/65 - 10s - loss: 1.5691 - accuracy: 0.2762 - val_loss: 1.5789 - val_accuracy: 0.3130\n",
            "\n",
            "Epoch 00031: val_loss did not improve from 1.57849\n",
            "Epoch 32/100\n",
            "65/65 - 10s - loss: 1.5686 - accuracy: 0.2701 - val_loss: 1.5789 - val_accuracy: 0.3130\n",
            "\n",
            "Epoch 00032: val_loss did not improve from 1.57849\n",
            "Epoch 33/100\n",
            "65/65 - 10s - loss: 1.5703 - accuracy: 0.2778 - val_loss: 1.5789 - val_accuracy: 0.3130\n",
            "\n",
            "Epoch 00033: val_loss did not improve from 1.57849\n",
            "Epoch 34/100\n",
            "65/65 - 10s - loss: 1.5708 - accuracy: 0.2731 - val_loss: 1.5789 - val_accuracy: 0.3130\n",
            "\n",
            "Epoch 00034: val_loss did not improve from 1.57849\n",
            "Epoch 35/100\n",
            "65/65 - 10s - loss: 1.5710 - accuracy: 0.2701 - val_loss: 1.5789 - val_accuracy: 0.3130\n",
            "\n",
            "Epoch 00035: val_loss did not improve from 1.57849\n",
            "Epoch 36/100\n",
            "65/65 - 10s - loss: 1.5706 - accuracy: 0.2747 - val_loss: 1.5789 - val_accuracy: 0.3130\n",
            "\n",
            "Epoch 00036: val_loss did not improve from 1.57849\n",
            "Epoch 37/100\n",
            "65/65 - 10s - loss: 1.5689 - accuracy: 0.2793 - val_loss: 1.5789 - val_accuracy: 0.3130\n",
            "\n",
            "Epoch 00037: val_loss did not improve from 1.57849\n",
            "Epoch 38/100\n",
            "65/65 - 10s - loss: 1.5702 - accuracy: 0.2731 - val_loss: 1.5789 - val_accuracy: 0.3130\n",
            "\n",
            "Epoch 00038: val_loss did not improve from 1.57849\n",
            "Epoch 39/100\n",
            "65/65 - 10s - loss: 1.5691 - accuracy: 0.2731 - val_loss: 1.5789 - val_accuracy: 0.3130\n",
            "\n",
            "Epoch 00039: val_loss did not improve from 1.57849\n",
            "Epoch 40/100\n",
            "65/65 - 10s - loss: 1.5683 - accuracy: 0.2731 - val_loss: 1.5789 - val_accuracy: 0.3130\n",
            "\n",
            "Epoch 00040: val_loss did not improve from 1.57849\n",
            "Epoch 41/100\n",
            "65/65 - 10s - loss: 1.5698 - accuracy: 0.2809 - val_loss: 1.5789 - val_accuracy: 0.3130\n",
            "\n",
            "Epoch 00041: val_loss did not improve from 1.57849\n",
            "Epoch 42/100\n",
            "65/65 - 10s - loss: 1.5710 - accuracy: 0.2747 - val_loss: 1.5789 - val_accuracy: 0.3130\n",
            "\n",
            "Epoch 00042: val_loss did not improve from 1.57849\n",
            "Epoch 43/100\n",
            "65/65 - 10s - loss: 1.5705 - accuracy: 0.2747 - val_loss: 1.5789 - val_accuracy: 0.3130\n",
            "\n",
            "Epoch 00043: val_loss did not improve from 1.57849\n",
            "Epoch 44/100\n",
            "65/65 - 10s - loss: 1.5696 - accuracy: 0.2762 - val_loss: 1.5789 - val_accuracy: 0.3130\n",
            "\n",
            "Epoch 00044: val_loss did not improve from 1.57849\n",
            "Epoch 45/100\n",
            "65/65 - 10s - loss: 1.5710 - accuracy: 0.2716 - val_loss: 1.5789 - val_accuracy: 0.3130\n",
            "\n",
            "Epoch 00045: val_loss did not improve from 1.57849\n",
            "Epoch 46/100\n",
            "65/65 - 10s - loss: 1.5696 - accuracy: 0.2731 - val_loss: 1.5789 - val_accuracy: 0.3130\n",
            "\n",
            "Epoch 00046: val_loss did not improve from 1.57849\n"
          ],
          "name": "stdout"
        },
        {
          "output_type": "execute_result",
          "data": {
            "text/plain": [
              "<keras.callbacks.History at 0x7f08060e37d0>"
            ]
          },
          "metadata": {
            "tags": []
          },
          "execution_count": 11
        }
      ]
    },
    {
      "cell_type": "code",
      "metadata": {
        "id": "OFHV9flhxgAE"
      },
      "source": [
        "# saving the trained model\n",
        "#model.save('/content/drive/My Drive/BPIC_11/Trained_Model')\n",
        "    "
      ],
      "execution_count": null,
      "outputs": []
    },
    {
      "cell_type": "code",
      "metadata": {
        "id": "fmhPm_R5ycxA"
      },
      "source": [
        "#loading the trained model\n",
        "\n",
        "#model2 = keras.models.load_model('/content/drive/My Drive/BPIC_11/Trained_Model')\n"
      ],
      "execution_count": null,
      "outputs": []
    },
    {
      "cell_type": "markdown",
      "metadata": {
        "id": "GvNQG4LyGtS6"
      },
      "source": [
        "#### Evaluating the Prediction performance of Diagnosis for new samples"
      ]
    },
    {
      "cell_type": "code",
      "metadata": {
        "colab": {
          "base_uri": "https://localhost:8080/",
          "height": 229
        },
        "id": "IsCwGgalGrxc",
        "outputId": "b2799bb7-568d-4e9a-cbc4-5d73d17a25de"
      },
      "source": [
        "# Generating Inputs\n",
        "\n",
        "x_test = [vec_test['prefixes']['x_ac_inp']]\n",
        "x_test.append(vec_test['prefixes']['x_rl_inp'])\n",
        "x_test.append(vec_test['prefixes']['xt_inp'])\n",
        "#x_test.append(vec_test['static']['x_age_inp'])\n",
        "#x_test.append(vec_test['static']['x_cl_inp'])\n",
        "\n",
        "\n",
        "y_test = vec_test['diagnosis']\n",
        "\n",
        "# Evaluate the model on the test data using `evaluate`\n",
        "print(\"Evaluate on test data\")\n",
        "results = model.evaluate(x_test, y_test, batch_size=10)# fix the padding size to be common for both test and train\n",
        "print(\"test loss, test acc:\", results)\n",
        "\n",
        "#Prediction\n",
        "\n",
        "y_pred = model.predict(x_test)\n"
      ],
      "execution_count": 1,
      "outputs": [
        {
          "output_type": "error",
          "ename": "NameError",
          "evalue": "ignored",
          "traceback": [
            "\u001b[0;31m---------------------------------------------------------------------------\u001b[0m",
            "\u001b[0;31mNameError\u001b[0m                                 Traceback (most recent call last)",
            "\u001b[0;32m<ipython-input-1-8eb7320e3560>\u001b[0m in \u001b[0;36m<module>\u001b[0;34m()\u001b[0m\n\u001b[1;32m      1\u001b[0m \u001b[0;31m# Generating Inputs\u001b[0m\u001b[0;34m\u001b[0m\u001b[0;34m\u001b[0m\u001b[0;34m\u001b[0m\u001b[0m\n\u001b[1;32m      2\u001b[0m \u001b[0;34m\u001b[0m\u001b[0m\n\u001b[0;32m----> 3\u001b[0;31m \u001b[0mx_test\u001b[0m \u001b[0;34m=\u001b[0m \u001b[0;34m[\u001b[0m\u001b[0mvec_test\u001b[0m\u001b[0;34m[\u001b[0m\u001b[0;34m'prefixes'\u001b[0m\u001b[0;34m]\u001b[0m\u001b[0;34m[\u001b[0m\u001b[0;34m'x_ac_inp'\u001b[0m\u001b[0;34m]\u001b[0m\u001b[0;34m]\u001b[0m\u001b[0;34m\u001b[0m\u001b[0;34m\u001b[0m\u001b[0m\n\u001b[0m\u001b[1;32m      4\u001b[0m \u001b[0mx_test\u001b[0m\u001b[0;34m.\u001b[0m\u001b[0mappend\u001b[0m\u001b[0;34m(\u001b[0m\u001b[0mvec_test\u001b[0m\u001b[0;34m[\u001b[0m\u001b[0;34m'prefixes'\u001b[0m\u001b[0;34m]\u001b[0m\u001b[0;34m[\u001b[0m\u001b[0;34m'x_rl_inp'\u001b[0m\u001b[0;34m]\u001b[0m\u001b[0;34m)\u001b[0m\u001b[0;34m\u001b[0m\u001b[0;34m\u001b[0m\u001b[0m\n\u001b[1;32m      5\u001b[0m \u001b[0mx_test\u001b[0m\u001b[0;34m.\u001b[0m\u001b[0mappend\u001b[0m\u001b[0;34m(\u001b[0m\u001b[0mvec_test\u001b[0m\u001b[0;34m[\u001b[0m\u001b[0;34m'prefixes'\u001b[0m\u001b[0;34m]\u001b[0m\u001b[0;34m[\u001b[0m\u001b[0;34m'xt_inp'\u001b[0m\u001b[0;34m]\u001b[0m\u001b[0;34m)\u001b[0m\u001b[0;34m\u001b[0m\u001b[0;34m\u001b[0m\u001b[0m\n",
            "\u001b[0;31mNameError\u001b[0m: name 'vec_test' is not defined"
          ]
        }
      ]
    },
    {
      "cell_type": "code",
      "metadata": {
        "colab": {
          "base_uri": "https://localhost:8080/"
        },
        "id": "A48MGGJOUHMT",
        "outputId": "fe537ee7-f2f8-490f-e7b2-806b4c035e61"
      },
      "source": [
        "for i in range(5):\n",
        "  print (i)"
      ],
      "execution_count": null,
      "outputs": [
        {
          "output_type": "stream",
          "text": [
            "0\n",
            "1\n",
            "2\n",
            "3\n",
            "4\n"
          ],
          "name": "stdout"
        }
      ]
    },
    {
      "cell_type": "code",
      "metadata": {
        "colab": {
          "base_uri": "https://localhost:8080/",
          "height": 529
        },
        "id": "TxPTS6r2ystW",
        "outputId": "9ad0278f-1aa6-4dfb-9e98-7095adb771e3"
      },
      "source": [
        "#Confusion Matrix\n",
        "\n",
        "import seaborn as sn\n",
        "\n",
        "\n",
        "matrix = confusion_matrix(y_test.argmax(axis=1), y_pred.argmax(axis=1))\n",
        "print(matrix)\n",
        "df_cm = pd.DataFrame(matrix, index = [index_di[i] for i in range(5)],\n",
        "                  columns = [index_di[i] for i in range(5)])\n",
        "\n",
        "plt.figure(figsize = (10,7))\n",
        "sn.heatmap(df_cm, annot=True)"
      ],
      "execution_count": null,
      "outputs": [
        {
          "output_type": "stream",
          "text": [
            "[[34  2 10  0  7]\n",
            " [16 16 28  0  3]\n",
            " [14  4 81  0 10]\n",
            " [ 4  4 15  0  4]\n",
            " [26  0 35  1 14]]\n"
          ],
          "name": "stdout"
        },
        {
          "output_type": "execute_result",
          "data": {
            "text/plain": [
              "<matplotlib.axes._subplots.AxesSubplot at 0x7fb45e4cfb90>"
            ]
          },
          "metadata": {
            "tags": []
          },
          "execution_count": 21
        },
        {
          "output_type": "display_data",
          "data": {
            "image/png": "[encoded data removed]",
            "text/plain": [
              "<Figure size 720x504 with 2 Axes>"
            ]
          },
          "metadata": {
            "tags": [],
            "needs_background": "light"
          }
        }
      ]
    }
  ]
}